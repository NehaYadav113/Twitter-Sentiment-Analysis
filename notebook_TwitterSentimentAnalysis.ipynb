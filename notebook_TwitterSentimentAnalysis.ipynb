{
 "cells": [
  {
   "cell_type": "code",
   "execution_count": 34,
   "metadata": {},
   "outputs": [],
   "source": [
    "#importing modules\n",
    "import numpy as np\n",
    "import pandas as pd\n",
    "from nltk.corpus import stopwords\n",
    "import string,re,pandas as pd\n",
    "from sklearn.model_selection import cross_val_score,KFold\n",
    "from sklearn.feature_extraction.text import CountVectorizer\n",
    "documents=[]\n",
    "#reading data\n",
    "x_data=pd.read_csv(\"C://Users//neha1//Desktop//training_twitter_x_y_train.csv\",delimiter=',')\n",
    "x_test=pd.read_csv(\"C://Users//neha1//Desktop//test_twitter_x_test.csv\",delimiter=\",\")\n",
    "y_train = x_data['airline_sentiment']"
   ]
  },
  {
   "cell_type": "markdown",
   "metadata": {},
   "source": [
    "# Data Cleaniing"
   ]
  },
  {
   "cell_type": "code",
   "execution_count": 35,
   "metadata": {},
   "outputs": [],
   "source": [
    "def remove_stop_words(tweets, stops) :\n",
    "    from nltk import word_tokenize\n",
    "    stops = list(stopwords.words('english'))\n",
    "    stops += (list(string.punctuation))\n",
    "    clean_tweets = []\n",
    "    for tweet in tweets :\n",
    "        new_tweet = []\n",
    "        for word in word_tokenize(tweet):\n",
    "            if word.lower() not in stops :            \n",
    "                new_tweet.append(word)\n",
    "        clean_tweets.append(\" \".join(new_tweet))\n",
    "    return clean_tweets\n",
    "        \n",
    "\n",
    "def remove_hrefs(tweets) :\n",
    "    clean_tweets = []\n",
    "    for tweet in tweets :\n",
    "        new_tweet = []\n",
    "        for word in tweet.split():\n",
    "            #if not (word.startswith(\"http://\") or word.startswith(\"https://\")):\n",
    "            if (word.startswith(\"@\")):\n",
    "                continue\n",
    "            word = re.sub(\"[^A-Za-z ]\", ' ', word)\n",
    "            word = re.sub(\"\\s+\", \" \", word)\n",
    "            new_tweet.append(word)\n",
    "            #else:\n",
    "            #    print(\"found\", word)\n",
    "        clean_tweets.append(\" \".join(new_tweet))\n",
    "    return clean_tweets\n",
    "\n",
    "\n",
    "def lower(tweets) :\n",
    "    clean_tweets = []\n",
    "    for tweet in tweets :\n",
    "        clean_tweets.append(tweet.lower())\n",
    "    return clean_tweets\n",
    "\n",
    "\n",
    "\n",
    "train_documents = []\n",
    "test_documents = []\n",
    "for i in range(len(x_data)):\n",
    "    train_documents.append(x_data['text'][i])\n",
    "for i in range(len(x_test)):\n",
    "    test_documents.append(x_test['text'][i])\n",
    "\n",
    "#cleaned Data\n",
    "hrefs_removed = remove_hrefs(train_documents)\n",
    "stop_words_removed = remove_stop_words(hrefs_removed, stops)\n",
    "train_docs = lower(stop_words_removed)\n",
    "\n",
    "hrefs_removed = remove_hrefs(test_documents)\n",
    "stop_words_removed = remove_stop_words(hrefs_removed, stops)\n",
    "test_docs  = lower(stop_words_removed)"
   ]
  },
  {
   "cell_type": "markdown",
   "metadata": {},
   "source": [
    "# Vectorizer"
   ]
  },
  {
   "cell_type": "code",
   "execution_count": 36,
   "metadata": {},
   "outputs": [],
   "source": [
    "from sklearn.feature_extraction.text import TfidfVectorizer\n",
    "Tfid_Vectorizer = TfidfVectorizer(ngram_range=(1,3),max_features=3000,norm='l2',sublinear_tf=True)\n",
    "X_train_feature = Tfid_Vectorizer.fit_transform(train_docs)\n",
    "X_test_feature = Tfid_Vectorizer.transform(test_docs)\n",
    "\n"
   ]
  },
  {
   "cell_type": "markdown",
   "metadata": {
    "collapsed": true
   },
   "source": [
    "# Scaling & Sampling"
   ]
  },
  {
   "cell_type": "code",
   "execution_count": 37,
   "metadata": {},
   "outputs": [],
   "source": [
    "#Scaling\n",
    "from sklearn.preprocessing import StandardScaler\n",
    "scaler = StandardScaler(with_mean=False)\n",
    "X_train_feature = scaler.fit_transform(X_train_feature)\n",
    "X_test_feature = scaler.transform(X_test_feature)\n",
    "\n",
    "#OverSampling\n",
    "from imblearn.pipeline import make_pipeline\n",
    "from imblearn.over_sampling import SMOTE,RandomOverSampler\n",
    "smt = SMOTE(random_state = 777, k_neighbors = 1)\n",
    "X_Smote, Y_Smote = smt.fit_sample(X_train_feature, y_train)"
   ]
  },
  {
   "cell_type": "markdown",
   "metadata": {},
   "source": [
    "# Classifiers"
   ]
  },
  {
   "cell_type": "code",
   "execution_count": 48,
   "metadata": {},
   "outputs": [],
   "source": [
    "from sklearn.ensemble import RandomForestClassifier\n",
    "classifier = RandomForestClassifier(n_estimators = 50)\n",
    "classifier.fit(X_Smote, Y_Smote)\n",
    "#Cross Validation\n",
    "print(cross_val_score(classifier,X_Smote,Y_Smote,cv = KFold(3, True, 0)))\n",
    "print(classifier.score(X_Smote,Y_Smote))\n",
    "y_pred = classifier.predict(X_test_feature)"
   ]
  },
  {
   "cell_type": "code",
   "execution_count": 46,
   "metadata": {},
   "outputs": [
    {
     "name": "stderr",
     "output_type": "stream",
     "text": [
      "C:\\Users\\neha1\\Anaconda3\\lib\\site-packages\\sklearn\\linear_model\\sag.py:326: ConvergenceWarning: The max_iter was reached which means the coef_ did not converge\n",
      "  \"the coef_ did not converge\", ConvergenceWarning)\n"
     ]
    }
   ],
   "source": [
    "from sklearn.linear_model import LogisticRegression\n",
    "clf = LogisticRegression(C = 0.001, solver = 'sag', max_iter=1000, fit_intercept = True)\n",
    "clf.fit(X_Smote,Y_Smote)\n",
    "#Cross Validation\n",
    "print(cross_val_score(classifier,X_Smote,Y_Smote,cv = KFold(3, True, 0)))\n",
    "print(classifier.score(X_Smote,Y_Smote))\n",
    "y_pred = classifier.predict(X_test_feature)"
   ]
  },
  {
   "cell_type": "code",
   "execution_count": 47,
   "metadata": {},
   "outputs": [],
   "source": [
    "np.savetxt('C:/Users/neha1/Desktop/predictOutput.csv',y_pred,fmt=\"%s\")\n"
   ]
  }
 ],
 "metadata": {
  "kernelspec": {
   "display_name": "Python 3",
   "language": "python",
   "name": "python3"
  },
  "language_info": {
   "codemirror_mode": {
    "name": "ipython",
    "version": 3
   },
   "file_extension": ".py",
   "mimetype": "text/x-python",
   "name": "python",
   "nbconvert_exporter": "python",
   "pygments_lexer": "ipython3",
   "version": "3.6.5"
  }
 },
 "nbformat": 4,
 "nbformat_minor": 2
}
